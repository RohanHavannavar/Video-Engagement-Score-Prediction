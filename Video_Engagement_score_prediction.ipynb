{
 "cells": [
  {
   "cell_type": "markdown",
   "metadata": {},
   "source": [
    "### DataSet Overview and Basic stats"
   ]
  },
  {
   "cell_type": "code",
   "execution_count": 1,
   "metadata": {},
   "outputs": [],
   "source": [
    "#importing the libararies\n",
    "import pandas as pd\n",
    "import numpy as np\n",
    "import matplotlib.pyplot as plt\n",
    "import seaborn as sns"
   ]
  },
  {
   "cell_type": "code",
   "execution_count": 2,
   "metadata": {},
   "outputs": [],
   "source": [
    "#reading data\n",
    "data = pd.read_csv(\"train_0OECtn8.csv\")"
   ]
  },
  {
   "cell_type": "code",
   "execution_count": 3,
   "metadata": {},
   "outputs": [
    {
     "data": {
      "text/html": [
       "<div>\n",
       "<style scoped>\n",
       "    .dataframe tbody tr th:only-of-type {\n",
       "        vertical-align: middle;\n",
       "    }\n",
       "\n",
       "    .dataframe tbody tr th {\n",
       "        vertical-align: top;\n",
       "    }\n",
       "\n",
       "    .dataframe thead th {\n",
       "        text-align: right;\n",
       "    }\n",
       "</style>\n",
       "<table border=\"1\" class=\"dataframe\">\n",
       "  <thead>\n",
       "    <tr style=\"text-align: right;\">\n",
       "      <th></th>\n",
       "      <th>row_id</th>\n",
       "      <th>user_id</th>\n",
       "      <th>category_id</th>\n",
       "      <th>video_id</th>\n",
       "      <th>age</th>\n",
       "      <th>gender</th>\n",
       "      <th>profession</th>\n",
       "      <th>followers</th>\n",
       "      <th>views</th>\n",
       "      <th>engagement_score</th>\n",
       "    </tr>\n",
       "  </thead>\n",
       "  <tbody>\n",
       "    <tr>\n",
       "      <th>0</th>\n",
       "      <td>1</td>\n",
       "      <td>19990</td>\n",
       "      <td>37</td>\n",
       "      <td>128</td>\n",
       "      <td>24</td>\n",
       "      <td>Male</td>\n",
       "      <td>Student</td>\n",
       "      <td>180</td>\n",
       "      <td>1000</td>\n",
       "      <td>4.33</td>\n",
       "    </tr>\n",
       "    <tr>\n",
       "      <th>1</th>\n",
       "      <td>2</td>\n",
       "      <td>5304</td>\n",
       "      <td>32</td>\n",
       "      <td>132</td>\n",
       "      <td>14</td>\n",
       "      <td>Female</td>\n",
       "      <td>Student</td>\n",
       "      <td>330</td>\n",
       "      <td>714</td>\n",
       "      <td>1.79</td>\n",
       "    </tr>\n",
       "    <tr>\n",
       "      <th>2</th>\n",
       "      <td>3</td>\n",
       "      <td>1840</td>\n",
       "      <td>12</td>\n",
       "      <td>24</td>\n",
       "      <td>19</td>\n",
       "      <td>Male</td>\n",
       "      <td>Student</td>\n",
       "      <td>180</td>\n",
       "      <td>138</td>\n",
       "      <td>4.35</td>\n",
       "    </tr>\n",
       "    <tr>\n",
       "      <th>3</th>\n",
       "      <td>4</td>\n",
       "      <td>12597</td>\n",
       "      <td>23</td>\n",
       "      <td>112</td>\n",
       "      <td>19</td>\n",
       "      <td>Male</td>\n",
       "      <td>Student</td>\n",
       "      <td>220</td>\n",
       "      <td>613</td>\n",
       "      <td>3.77</td>\n",
       "    </tr>\n",
       "    <tr>\n",
       "      <th>4</th>\n",
       "      <td>5</td>\n",
       "      <td>13626</td>\n",
       "      <td>23</td>\n",
       "      <td>112</td>\n",
       "      <td>27</td>\n",
       "      <td>Male</td>\n",
       "      <td>Working Professional</td>\n",
       "      <td>220</td>\n",
       "      <td>613</td>\n",
       "      <td>3.13</td>\n",
       "    </tr>\n",
       "  </tbody>\n",
       "</table>\n",
       "</div>"
      ],
      "text/plain": [
       "   row_id  user_id  category_id  video_id  age  gender            profession  \\\n",
       "0       1    19990           37       128   24    Male               Student   \n",
       "1       2     5304           32       132   14  Female               Student   \n",
       "2       3     1840           12        24   19    Male               Student   \n",
       "3       4    12597           23       112   19    Male               Student   \n",
       "4       5    13626           23       112   27    Male  Working Professional   \n",
       "\n",
       "   followers  views  engagement_score  \n",
       "0        180   1000              4.33  \n",
       "1        330    714              1.79  \n",
       "2        180    138              4.35  \n",
       "3        220    613              3.77  \n",
       "4        220    613              3.13  "
      ]
     },
     "execution_count": 3,
     "metadata": {},
     "output_type": "execute_result"
    }
   ],
   "source": [
    "data.head(5)"
   ]
  },
  {
   "cell_type": "code",
   "execution_count": 4,
   "metadata": {},
   "outputs": [
    {
     "name": "stdout",
     "output_type": "stream",
     "text": [
      "Number of data points in train data (89197, 10)\n",
      "--------------------------------------------------\n",
      "The attributes of data : ['row_id' 'user_id' 'category_id' 'video_id' 'age' 'gender' 'profession'\n",
      " 'followers' 'views' 'engagement_score']\n"
     ]
    }
   ],
   "source": [
    "#basic stats about data\n",
    "print(\"Number of data points in train data\", data.shape)\n",
    "print('-'*50)\n",
    "print(\"The attributes of data :\",data.columns.values)\n"
   ]
  },
  {
   "cell_type": "code",
   "execution_count": 5,
   "metadata": {},
   "outputs": [
    {
     "data": {
      "text/plain": [
       "row_id                int64\n",
       "user_id               int64\n",
       "category_id           int64\n",
       "video_id              int64\n",
       "age                   int64\n",
       "gender               object\n",
       "profession           object\n",
       "followers             int64\n",
       "views                 int64\n",
       "engagement_score    float64\n",
       "dtype: object"
      ]
     },
     "execution_count": 5,
     "metadata": {},
     "output_type": "execute_result"
    }
   ],
   "source": [
    "#data types of the features\n",
    "data.dtypes"
   ]
  },
  {
   "cell_type": "code",
   "execution_count": 6,
   "metadata": {},
   "outputs": [
    {
     "data": {
      "text/html": [
       "<div>\n",
       "<style scoped>\n",
       "    .dataframe tbody tr th:only-of-type {\n",
       "        vertical-align: middle;\n",
       "    }\n",
       "\n",
       "    .dataframe tbody tr th {\n",
       "        vertical-align: top;\n",
       "    }\n",
       "\n",
       "    .dataframe thead th {\n",
       "        text-align: right;\n",
       "    }\n",
       "</style>\n",
       "<table border=\"1\" class=\"dataframe\">\n",
       "  <thead>\n",
       "    <tr style=\"text-align: right;\">\n",
       "      <th></th>\n",
       "      <th>count</th>\n",
       "      <th>mean</th>\n",
       "      <th>std</th>\n",
       "      <th>min</th>\n",
       "      <th>25%</th>\n",
       "      <th>50%</th>\n",
       "      <th>75%</th>\n",
       "      <th>max</th>\n",
       "    </tr>\n",
       "  </thead>\n",
       "  <tbody>\n",
       "    <tr>\n",
       "      <th>row_id</th>\n",
       "      <td>89197.0</td>\n",
       "      <td>44599.000000</td>\n",
       "      <td>25749.100318</td>\n",
       "      <td>1.0</td>\n",
       "      <td>22300.0</td>\n",
       "      <td>44599.00</td>\n",
       "      <td>66898.00</td>\n",
       "      <td>89197.0</td>\n",
       "    </tr>\n",
       "    <tr>\n",
       "      <th>user_id</th>\n",
       "      <td>89197.0</td>\n",
       "      <td>13881.909806</td>\n",
       "      <td>8005.582771</td>\n",
       "      <td>1.0</td>\n",
       "      <td>6945.0</td>\n",
       "      <td>13892.00</td>\n",
       "      <td>20819.00</td>\n",
       "      <td>27734.0</td>\n",
       "    </tr>\n",
       "    <tr>\n",
       "      <th>category_id</th>\n",
       "      <td>89197.0</td>\n",
       "      <td>18.323733</td>\n",
       "      <td>11.675154</td>\n",
       "      <td>1.0</td>\n",
       "      <td>8.0</td>\n",
       "      <td>16.00</td>\n",
       "      <td>26.00</td>\n",
       "      <td>47.0</td>\n",
       "    </tr>\n",
       "    <tr>\n",
       "      <th>video_id</th>\n",
       "      <td>89197.0</td>\n",
       "      <td>77.715383</td>\n",
       "      <td>48.469656</td>\n",
       "      <td>1.0</td>\n",
       "      <td>34.0</td>\n",
       "      <td>76.00</td>\n",
       "      <td>120.00</td>\n",
       "      <td>175.0</td>\n",
       "    </tr>\n",
       "    <tr>\n",
       "      <th>age</th>\n",
       "      <td>89197.0</td>\n",
       "      <td>24.848616</td>\n",
       "      <td>8.955535</td>\n",
       "      <td>10.0</td>\n",
       "      <td>18.0</td>\n",
       "      <td>23.00</td>\n",
       "      <td>32.00</td>\n",
       "      <td>68.0</td>\n",
       "    </tr>\n",
       "    <tr>\n",
       "      <th>followers</th>\n",
       "      <td>89197.0</td>\n",
       "      <td>252.460172</td>\n",
       "      <td>46.094468</td>\n",
       "      <td>160.0</td>\n",
       "      <td>230.0</td>\n",
       "      <td>240.00</td>\n",
       "      <td>280.00</td>\n",
       "      <td>360.0</td>\n",
       "    </tr>\n",
       "    <tr>\n",
       "      <th>views</th>\n",
       "      <td>89197.0</td>\n",
       "      <td>502.980268</td>\n",
       "      <td>268.569482</td>\n",
       "      <td>30.0</td>\n",
       "      <td>229.0</td>\n",
       "      <td>467.00</td>\n",
       "      <td>714.00</td>\n",
       "      <td>1000.0</td>\n",
       "    </tr>\n",
       "    <tr>\n",
       "      <th>engagement_score</th>\n",
       "      <td>89197.0</td>\n",
       "      <td>3.487797</td>\n",
       "      <td>0.863498</td>\n",
       "      <td>0.0</td>\n",
       "      <td>2.9</td>\n",
       "      <td>3.71</td>\n",
       "      <td>4.15</td>\n",
       "      <td>5.0</td>\n",
       "    </tr>\n",
       "  </tbody>\n",
       "</table>\n",
       "</div>"
      ],
      "text/plain": [
       "                    count          mean           std    min      25%  \\\n",
       "row_id            89197.0  44599.000000  25749.100318    1.0  22300.0   \n",
       "user_id           89197.0  13881.909806   8005.582771    1.0   6945.0   \n",
       "category_id       89197.0     18.323733     11.675154    1.0      8.0   \n",
       "video_id          89197.0     77.715383     48.469656    1.0     34.0   \n",
       "age               89197.0     24.848616      8.955535   10.0     18.0   \n",
       "followers         89197.0    252.460172     46.094468  160.0    230.0   \n",
       "views             89197.0    502.980268    268.569482   30.0    229.0   \n",
       "engagement_score  89197.0      3.487797      0.863498    0.0      2.9   \n",
       "\n",
       "                       50%       75%      max  \n",
       "row_id            44599.00  66898.00  89197.0  \n",
       "user_id           13892.00  20819.00  27734.0  \n",
       "category_id          16.00     26.00     47.0  \n",
       "video_id             76.00    120.00    175.0  \n",
       "age                  23.00     32.00     68.0  \n",
       "followers           240.00    280.00    360.0  \n",
       "views               467.00    714.00   1000.0  \n",
       "engagement_score      3.71      4.15      5.0  "
      ]
     },
     "execution_count": 6,
     "metadata": {},
     "output_type": "execute_result"
    }
   ],
   "source": [
    "#statistical summary of features\n",
    "data.describe().T"
   ]
  },
  {
   "cell_type": "markdown",
   "metadata": {},
   "source": [
    "## Observation"
   ]
  },
  {
   "cell_type": "markdown",
   "metadata": {},
   "source": [
    "### 1.from min and max values of features we come to know that features lie in certain range i.e age lies between 10 to 68 and so on.\n",
    "### 2.the mean and median i.e 50 percentile values are almost same for all features except views but not much difference is there.But we can examine if there are any outliers present or not.\n",
    "### 3.Dispersion of all the features are different."
   ]
  },
  {
   "cell_type": "code",
   "execution_count": 7,
   "metadata": {},
   "outputs": [
    {
     "name": "stdout",
     "output_type": "stream",
     "text": [
      "<class 'pandas.core.frame.DataFrame'>\n",
      "RangeIndex: 89197 entries, 0 to 89196\n",
      "Data columns (total 10 columns):\n",
      " #   Column            Non-Null Count  Dtype  \n",
      "---  ------            --------------  -----  \n",
      " 0   row_id            89197 non-null  int64  \n",
      " 1   user_id           89197 non-null  int64  \n",
      " 2   category_id       89197 non-null  int64  \n",
      " 3   video_id          89197 non-null  int64  \n",
      " 4   age               89197 non-null  int64  \n",
      " 5   gender            89197 non-null  object \n",
      " 6   profession        89197 non-null  object \n",
      " 7   followers         89197 non-null  int64  \n",
      " 8   views             89197 non-null  int64  \n",
      " 9   engagement_score  89197 non-null  float64\n",
      "dtypes: float64(1), int64(7), object(2)\n",
      "memory usage: 6.8+ MB\n"
     ]
    }
   ],
   "source": [
    "#checking full information of each feature i.e checking for null values\n",
    "data.info()"
   ]
  },
  {
   "cell_type": "markdown",
   "metadata": {},
   "source": [
    "\n",
    "\n",
    "There are no null values present in features"
   ]
  },
  {
   "cell_type": "code",
   "execution_count": 8,
   "metadata": {},
   "outputs": [
    {
     "name": "stdout",
     "output_type": "stream",
     "text": [
      "Empty DataFrame\n",
      "Columns: [row_id, user_id, category_id, video_id, age, gender, profession, followers, views, engagement_score]\n",
      "Index: []\n"
     ]
    }
   ],
   "source": [
    "#checking if there are any duplicate rows present in dataset\n",
    "duplicate = data[data.duplicated()]\n",
    "print(duplicate)"
   ]
  },
  {
   "cell_type": "markdown",
   "metadata": {},
   "source": [
    "There are no duplicate rows found in dataset"
   ]
  },
  {
   "cell_type": "markdown",
   "metadata": {},
   "source": [
    "## Feature wise Analysis / Univariate Analysis"
   ]
  },
  {
   "cell_type": "code",
   "execution_count": 9,
   "metadata": {},
   "outputs": [
    {
     "name": "stdout",
     "output_type": "stream",
     "text": [
      "count    89197.000000\n",
      "mean        24.848616\n",
      "std          8.955535\n",
      "min         10.000000\n",
      "25%         18.000000\n",
      "50%         23.000000\n",
      "75%         32.000000\n",
      "max         68.000000\n",
      "Name: age, dtype: float64\n"
     ]
    }
   ],
   "source": [
    "#age\n",
    "#statistical summary of feature\n",
    "print(data['age'].describe())"
   ]
  },
  {
   "cell_type": "markdown",
   "metadata": {},
   "source": [
    "## Observation\n",
    "### 1. Since mean and median i.e 50% percentile does not have much difference almost same so we can confirm there are no outliers present\n",
    "### 2. The age range lies between 24 to 68"
   ]
  },
  {
   "cell_type": "code",
   "execution_count": 14,
   "metadata": {},
   "outputs": [
    {
     "data": {
      "text/plain": [
       "<matplotlib.axes._subplots.AxesSubplot at 0x161681e1788>"
      ]
     },
     "execution_count": 14,
     "metadata": {},
     "output_type": "execute_result"
    },
    {
     "data": {
      "image/png": "[encoded data removed]",
      "text/plain": [
       "<Figure size 1296x720 with 1 Axes>"
      ]
     },
     "metadata": {
      "needs_background": "light"
     },
     "output_type": "display_data"
    }
   ],
   "source": [
    "#distribution of age feature\n",
    "fig = plt.gcf()\n",
    "fig.set_size_inches(18, 10)\n",
    "sns.distplot(data['age'])"
   ]
  },
  {
   "cell_type": "markdown",
   "metadata": {},
   "source": [
    "## Observation\n",
    "### 1.Distribution is slightly right skewed but not much. The age between 15 to almost 35 are high in numbers.\n",
    "### 2. The age between 15 to 20 are very high in numbers.\n"
   ]
  },
  {
   "cell_type": "code",
   "execution_count": 17,
   "metadata": {},
   "outputs": [
    {
     "data": {
      "image/png": "[encoded data removed]",
      "text/plain": [
       "<Figure size 1296x720 with 1 Axes>"
      ]
     },
     "metadata": {
      "needs_background": "light"
     },
     "output_type": "display_data"
    }
   ],
   "source": [
    "fig = plt.gcf()\n",
    "fig.set_size_inches(18, 10)\n",
    "group = data.groupby('age')['engagement_score'].sum().plot.bar()"
   ]
  },
  {
   "cell_type": "markdown",
   "metadata": {},
   "source": [
    "The age between 16 to 20 have high engagement score"
   ]
  },
  {
   "cell_type": "code",
   "execution_count": 18,
   "metadata": {},
   "outputs": [
    {
     "data": {
      "text/plain": [
       "count    89197.000000\n",
       "mean        18.323733\n",
       "std         11.675154\n",
       "min          1.000000\n",
       "25%          8.000000\n",
       "50%         16.000000\n",
       "75%         26.000000\n",
       "max         47.000000\n",
       "Name: category_id, dtype: float64"
      ]
     },
     "execution_count": 18,
     "metadata": {},
     "output_type": "execute_result"
    }
   ],
   "source": [
    "#category_id\n",
    "data['category_id'].describe()"
   ]
  },
  {
   "cell_type": "markdown",
   "metadata": {},
   "source": [
    "Category_id lies in range of 1 to 47\n",
    "since mean and median are almost same there are no outliers present."
   ]
  },
  {
   "cell_type": "code",
   "execution_count": 19,
   "metadata": {},
   "outputs": [
    {
     "data": {
      "text/plain": [
       "<matplotlib.axes._subplots.AxesSubplot at 0x16168bdc1c8>"
      ]
     },
     "execution_count": 19,
     "metadata": {},
     "output_type": "execute_result"
    },
    {
     "data": {
      "image/png": "[encoded data removed]",
      "text/plain": [
       "<Figure size 1296x720 with 1 Axes>"
      ]
     },
     "metadata": {
      "needs_background": "light"
     },
     "output_type": "display_data"
    }
   ],
   "source": [
    "#checking distribution of category_id\n",
    "fig = plt.gcf()\n",
    "fig.set_size_inches(18, 10)\n",
    "sns.distplot(data['category_id'])\n"
   ]
  },
  {
   "cell_type": "code",
   "execution_count": 20,
   "metadata": {},
   "outputs": [
    {
     "data": {
      "image/png": "[encoded data removed]",
      "text/plain": [
       "<Figure size 1296x720 with 1 Axes>"
      ]
     },
     "metadata": {
      "needs_background": "light"
     },
     "output_type": "display_data"
    }
   ],
   "source": [
    "#checking which category_id has highest views\n",
    "fig = plt.gcf()\n",
    "fig.set_size_inches(18, 10)\n",
    "group = data.groupby('category_id')['views'].sum().plot.bar()"
   ]
  },
  {
   "cell_type": "markdown",
   "metadata": {},
   "source": [
    "category 8,24 and 31 have highest number of views"
   ]
  },
  {
   "cell_type": "code",
   "execution_count": 26,
   "metadata": {},
   "outputs": [
    {
     "data": {
      "image/png": "[encoded data removed]",
      "text/plain": [
       "<Figure size 1296x720 with 1 Axes>"
      ]
     },
     "metadata": {
      "needs_background": "light"
     },
     "output_type": "display_data"
    }
   ],
   "source": [
    "#checking which category_id has highest followers\n",
    "fig = plt.gcf()\n",
    "fig.set_size_inches(18, 10)\n",
    "group = data.groupby('category_id')['followers'].sum().plot.bar()"
   ]
  },
  {
   "cell_type": "markdown",
   "metadata": {},
   "source": [
    "category 5,8 and 21 have highest followers"
   ]
  },
  {
   "cell_type": "code",
   "execution_count": 27,
   "metadata": {},
   "outputs": [
    {
     "data": {
      "text/plain": [
       "count     89197\n",
       "unique        2\n",
       "top        Male\n",
       "freq      52397\n",
       "Name: gender, dtype: object"
      ]
     },
     "execution_count": 27,
     "metadata": {},
     "output_type": "execute_result"
    }
   ],
   "source": [
    "#gender\n",
    "data['gender'].describe()"
   ]
  },
  {
   "cell_type": "code",
   "execution_count": 35,
   "metadata": {},
   "outputs": [
    {
     "name": "stdout",
     "output_type": "stream",
     "text": [
      "The percentage of male and female population is\n"
     ]
    },
    {
     "data": {
      "text/plain": [
       "Male      58.743007\n",
       "Female    41.256993\n",
       "Name: gender, dtype: float64"
      ]
     },
     "execution_count": 35,
     "metadata": {},
     "output_type": "execute_result"
    },
    {
     "data": {
      "image/png": "[encoded data removed]",
      "text/plain": [
       "<Figure size 720x360 with 1 Axes>"
      ]
     },
     "metadata": {
      "needs_background": "light"
     },
     "output_type": "display_data"
    }
   ],
   "source": [
    "#checking distribution\n",
    "fig = plt.gcf()\n",
    "fig.set_size_inches(10, 5)\n",
    "group = data.groupby('gender')['gender'].count().plot.bar()\n",
    "print(\"The percentage of male and female population is\")\n",
    "data['gender'].value_counts() / data.shape[0] * 100"
   ]
  },
  {
   "cell_type": "markdown",
   "metadata": {},
   "source": [
    "Male population is higher than female population "
   ]
  },
  {
   "cell_type": "code",
   "execution_count": 36,
   "metadata": {},
   "outputs": [
    {
     "data": {
      "text/plain": [
       "count       89197\n",
       "unique          3\n",
       "top       Student\n",
       "freq        44638\n",
       "Name: profession, dtype: object"
      ]
     },
     "execution_count": 36,
     "metadata": {},
     "output_type": "execute_result"
    }
   ],
   "source": [
    "#profession\n",
    "data['profession'].describe()"
   ]
  },
  {
   "cell_type": "code",
   "execution_count": 38,
   "metadata": {},
   "outputs": [
    {
     "name": "stdout",
     "output_type": "stream",
     "text": [
      "The percentage of student,Other and working professional is\n"
     ]
    },
    {
     "data": {
      "text/plain": [
       "Student                 50.044284\n",
       "Other                   30.090698\n",
       "Working Professional    19.865018\n",
       "Name: profession, dtype: float64"
      ]
     },
     "execution_count": 38,
     "metadata": {},
     "output_type": "execute_result"
    },
    {
     "data": {
      "image/png": "[encoded data removed]",
      "text/plain": [
       "<Figure size 720x360 with 1 Axes>"
      ]
     },
     "metadata": {
      "needs_background": "light"
     },
     "output_type": "display_data"
    }
   ],
   "source": [
    "fig = plt.gcf()\n",
    "fig.set_size_inches(10, 5)\n",
    "group = data.groupby('profession')['profession'].count().plot.bar()\n",
    "print(\"The percentage of student,Other and working professional is\")\n",
    "data['profession'].value_counts() / data.shape[0] * 100"
   ]
  },
  {
   "cell_type": "markdown",
   "metadata": {},
   "source": [
    "Student population is more than working professional and others"
   ]
  },
  {
   "cell_type": "code",
   "execution_count": 39,
   "metadata": {},
   "outputs": [
    {
     "data": {
      "text/plain": [
       "count    89197.000000\n",
       "mean       252.460172\n",
       "std         46.094468\n",
       "min        160.000000\n",
       "25%        230.000000\n",
       "50%        240.000000\n",
       "75%        280.000000\n",
       "max        360.000000\n",
       "Name: followers, dtype: float64"
      ]
     },
     "execution_count": 39,
     "metadata": {},
     "output_type": "execute_result"
    }
   ],
   "source": [
    "#followers\n",
    "data['followers'].describe()"
   ]
  },
  {
   "cell_type": "markdown",
   "metadata": {},
   "source": [
    "Mean and median are slightly different we can confirm if there are any outliers present or not through boxplots"
   ]
  },
  {
   "cell_type": "code",
   "execution_count": 40,
   "metadata": {},
   "outputs": [
    {
     "data": {
      "text/plain": [
       "<matplotlib.axes._subplots.AxesSubplot at 0x16169189b88>"
      ]
     },
     "execution_count": 40,
     "metadata": {},
     "output_type": "execute_result"
    },
    {
     "data": {
      "image/png": "[encoded data removed]",
      "text/plain": [
       "<Figure size 432x288 with 1 Axes>"
      ]
     },
     "metadata": {
      "needs_background": "light"
     },
     "output_type": "display_data"
    }
   ],
   "source": [
    "#boxplot\n",
    "sns.boxplot(data['followers'])"
   ]
  },
  {
   "cell_type": "code",
   "execution_count": 44,
   "metadata": {},
   "outputs": [
    {
     "name": "stdout",
     "output_type": "stream",
     "text": [
      "0 percentile value is 160.0\n",
      "10 percentile value is 180.0\n",
      "20 percentile value is 230.0\n",
      "30 percentile value is 230.0\n",
      "40 percentile value is 240.0\n",
      "50 percentile value is 240.0\n",
      "60 percentile value is 250.0\n",
      "70 percentile value is 270.0\n",
      "80 percentile value is 280.0\n",
      "90 percentile value is 330.0\n",
      "100 percentile value is 360.0\n"
     ]
    }
   ],
   "source": [
    "#we can check outliers by percentiles\n",
    "array = np.array(data['followers'])\n",
    "for i in range(0,101,10):\n",
    "    print(\"{} percentile value is {}\".format(i,np.percentile(array,i)))"
   ]
  },
  {
   "cell_type": "markdown",
   "metadata": {},
   "source": [
    "There is slight difference between 90 and 100th percentile values will check all the values between 90 to 100 percentile values"
   ]
  },
  {
   "cell_type": "code",
   "execution_count": 45,
   "metadata": {},
   "outputs": [
    {
     "name": "stdout",
     "output_type": "stream",
     "text": [
      "90 percentile value is 330.0\n",
      "91 percentile value is 330.0\n",
      "92 percentile value is 330.0\n",
      "93 percentile value is 340.0\n",
      "94 percentile value is 340.0\n",
      "95 percentile value is 340.0\n",
      "96 percentile value is 340.0\n",
      "97 percentile value is 340.0\n",
      "98 percentile value is 360.0\n",
      "99 percentile value is 360.0\n",
      "100 percentile value is 360.0\n"
     ]
    }
   ],
   "source": [
    "for i in range(90,101):\n",
    "    print(\"{} percentile value is {}\".format(i,np.percentile(array,i)))"
   ]
  },
  {
   "cell_type": "markdown",
   "metadata": {},
   "source": [
    "There is no difference between 99th percentile values"
   ]
  },
  {
   "cell_type": "code",
   "execution_count": 47,
   "metadata": {},
   "outputs": [
    {
     "data": {
      "text/plain": [
       "<matplotlib.axes._subplots.AxesSubplot at 0x16169a418c8>"
      ]
     },
     "execution_count": 47,
     "metadata": {},
     "output_type": "execute_result"
    },
    {
     "data": {
      "image/png": "[encoded data removed]",
      "text/plain": [
       "<Figure size 720x720 with 1 Axes>"
      ]
     },
     "metadata": {
      "needs_background": "light"
     },
     "output_type": "display_data"
    }
   ],
   "source": [
    "#checking distribution\n",
    "fig = plt.gcf()\n",
    "fig.set_size_inches(10, 10)\n",
    "sns.distplot(data['followers'])"
   ]
  },
  {
   "cell_type": "code",
   "execution_count": 48,
   "metadata": {},
   "outputs": [
    {
     "data": {
      "text/plain": [
       "count    89197.000000\n",
       "mean       502.980268\n",
       "std        268.569482\n",
       "min         30.000000\n",
       "25%        229.000000\n",
       "50%        467.000000\n",
       "75%        714.000000\n",
       "max       1000.000000\n",
       "Name: views, dtype: float64"
      ]
     },
     "execution_count": 48,
     "metadata": {},
     "output_type": "execute_result"
    }
   ],
   "source": [
    "#views\n",
    "data['views'].describe()"
   ]
  },
  {
   "cell_type": "markdown",
   "metadata": {},
   "source": [
    "Since mean and median are slightly different we can compute percentile values to check if there are any outliers present or not"
   ]
  },
  {
   "cell_type": "code",
   "execution_count": 49,
   "metadata": {},
   "outputs": [],
   "source": [
    "arr = np.array(data['views'])"
   ]
  },
  {
   "cell_type": "code",
   "execution_count": 50,
   "metadata": {},
   "outputs": [
    {
     "name": "stdout",
     "output_type": "stream",
     "text": [
      "0 percentile value is 30.0\n",
      "10 percentile value is 138.0\n",
      "20 percentile value is 229.0\n",
      "30 percentile value is 317.0\n",
      "40 percentile value is 369.0\n",
      "50 percentile value is 467.0\n",
      "60 percentile value is 628.0\n",
      "70 percentile value is 662.0\n",
      "80 percentile value is 781.0\n",
      "90 percentile value is 884.0\n",
      "100 percentile value is 1000.0\n"
     ]
    }
   ],
   "source": [
    "for i in range(0,101,10):\n",
    "    print(\"{} percentile value is {}\".format(i,np.percentile(arr,i)))"
   ]
  },
  {
   "cell_type": "code",
   "execution_count": 51,
   "metadata": {},
   "outputs": [
    {
     "name": "stdout",
     "output_type": "stream",
     "text": [
      "90 percentile value is 884.0\n",
      "91 percentile value is 884.0\n",
      "92 percentile value is 900.0\n",
      "93 percentile value is 909.0\n",
      "94 percentile value is 909.0\n",
      "95 percentile value is 909.0\n",
      "96 percentile value is 909.0\n",
      "97 percentile value is 990.0\n",
      "98 percentile value is 990.0\n",
      "99 percentile value is 1000.0\n",
      "100 percentile value is 1000.0\n"
     ]
    }
   ],
   "source": [
    "#checking for 99th percentile values\n",
    "for i in range(90,101):\n",
    "    print(\"{} percentile value is {}\".format(i,np.percentile(arr,i)))"
   ]
  },
  {
   "cell_type": "code",
   "execution_count": 53,
   "metadata": {},
   "outputs": [
    {
     "data": {
      "text/plain": [
       "<matplotlib.axes._subplots.AxesSubplot at 0x161694a9dc8>"
      ]
     },
     "execution_count": 53,
     "metadata": {},
     "output_type": "execute_result"
    },
    {
     "data": {
      "image/png": "[encoded data removed]",
      "text/plain": [
       "<Figure size 720x720 with 1 Axes>"
      ]
     },
     "metadata": {
      "needs_background": "light"
     },
     "output_type": "display_data"
    }
   ],
   "source": [
    "#checking distribution\n",
    "fig = plt.gcf()\n",
    "fig.set_size_inches(10, 10)\n",
    "sns.distplot(data['views'])"
   ]
  },
  {
   "cell_type": "code",
   "execution_count": 55,
   "metadata": {},
   "outputs": [
    {
     "data": {
      "text/plain": [
       "<matplotlib.axes._subplots.AxesSubplot at 0x16169e63fc8>"
      ]
     },
     "execution_count": 55,
     "metadata": {},
     "output_type": "execute_result"
    },
    {
     "data": {
      "image/png": "[encoded data removed]",
      "text/plain": [
       "<Figure size 720x720 with 1 Axes>"
      ]
     },
     "metadata": {
      "needs_background": "light"
     },
     "output_type": "display_data"
    }
   ],
   "source": [
    "#checking the distribution of target variable i.e engagement score\n",
    "fig = plt.gcf()\n",
    "fig.set_size_inches(10, 10)\n",
    "sns.distplot(data['engagement_score'])"
   ]
  },
  {
   "cell_type": "markdown",
   "metadata": {},
   "source": [
    "Looks like Guassian curve with left skewed"
   ]
  },
  {
   "cell_type": "code",
   "execution_count": 59,
   "metadata": {},
   "outputs": [
    {
     "data": {
      "text/html": [
       "<div>\n",
       "<style scoped>\n",
       "    .dataframe tbody tr th:only-of-type {\n",
       "        vertical-align: middle;\n",
       "    }\n",
       "\n",
       "    .dataframe tbody tr th {\n",
       "        vertical-align: top;\n",
       "    }\n",
       "\n",
       "    .dataframe thead th {\n",
       "        text-align: right;\n",
       "    }\n",
       "</style>\n",
       "<table border=\"1\" class=\"dataframe\">\n",
       "  <thead>\n",
       "    <tr style=\"text-align: right;\">\n",
       "      <th></th>\n",
       "      <th>row_id</th>\n",
       "      <th>user_id</th>\n",
       "      <th>category_id</th>\n",
       "      <th>video_id</th>\n",
       "      <th>age</th>\n",
       "      <th>followers</th>\n",
       "      <th>views</th>\n",
       "      <th>engagement_score</th>\n",
       "    </tr>\n",
       "  </thead>\n",
       "  <tbody>\n",
       "    <tr>\n",
       "      <th>row_id</th>\n",
       "      <td>1.000000</td>\n",
       "      <td>-0.006953</td>\n",
       "      <td>0.002833</td>\n",
       "      <td>0.000891</td>\n",
       "      <td>-0.005199</td>\n",
       "      <td>-0.001374</td>\n",
       "      <td>-0.001815</td>\n",
       "      <td>-0.003368</td>\n",
       "    </tr>\n",
       "    <tr>\n",
       "      <th>user_id</th>\n",
       "      <td>-0.006953</td>\n",
       "      <td>1.000000</td>\n",
       "      <td>0.002139</td>\n",
       "      <td>0.005232</td>\n",
       "      <td>-0.000036</td>\n",
       "      <td>-0.002026</td>\n",
       "      <td>-0.001843</td>\n",
       "      <td>-0.002900</td>\n",
       "    </tr>\n",
       "    <tr>\n",
       "      <th>category_id</th>\n",
       "      <td>0.002833</td>\n",
       "      <td>0.002139</td>\n",
       "      <td>1.000000</td>\n",
       "      <td>0.556550</td>\n",
       "      <td>-0.003152</td>\n",
       "      <td>0.056432</td>\n",
       "      <td>0.079321</td>\n",
       "      <td>-0.094288</td>\n",
       "    </tr>\n",
       "    <tr>\n",
       "      <th>video_id</th>\n",
       "      <td>0.000891</td>\n",
       "      <td>0.005232</td>\n",
       "      <td>0.556550</td>\n",
       "      <td>1.000000</td>\n",
       "      <td>-0.005615</td>\n",
       "      <td>0.098778</td>\n",
       "      <td>-0.029448</td>\n",
       "      <td>-0.030552</td>\n",
       "    </tr>\n",
       "    <tr>\n",
       "      <th>age</th>\n",
       "      <td>-0.005199</td>\n",
       "      <td>-0.000036</td>\n",
       "      <td>-0.003152</td>\n",
       "      <td>-0.005615</td>\n",
       "      <td>1.000000</td>\n",
       "      <td>0.004623</td>\n",
       "      <td>0.011042</td>\n",
       "      <td>-0.232626</td>\n",
       "    </tr>\n",
       "    <tr>\n",
       "      <th>followers</th>\n",
       "      <td>-0.001374</td>\n",
       "      <td>-0.002026</td>\n",
       "      <td>0.056432</td>\n",
       "      <td>0.098778</td>\n",
       "      <td>0.004623</td>\n",
       "      <td>1.000000</td>\n",
       "      <td>0.360808</td>\n",
       "      <td>0.000855</td>\n",
       "    </tr>\n",
       "    <tr>\n",
       "      <th>views</th>\n",
       "      <td>-0.001815</td>\n",
       "      <td>-0.001843</td>\n",
       "      <td>0.079321</td>\n",
       "      <td>-0.029448</td>\n",
       "      <td>0.011042</td>\n",
       "      <td>0.360808</td>\n",
       "      <td>1.000000</td>\n",
       "      <td>-0.084679</td>\n",
       "    </tr>\n",
       "    <tr>\n",
       "      <th>engagement_score</th>\n",
       "      <td>-0.003368</td>\n",
       "      <td>-0.002900</td>\n",
       "      <td>-0.094288</td>\n",
       "      <td>-0.030552</td>\n",
       "      <td>-0.232626</td>\n",
       "      <td>0.000855</td>\n",
       "      <td>-0.084679</td>\n",
       "      <td>1.000000</td>\n",
       "    </tr>\n",
       "  </tbody>\n",
       "</table>\n",
       "</div>"
      ],
      "text/plain": [
       "                    row_id   user_id  category_id  video_id       age  \\\n",
       "row_id            1.000000 -0.006953     0.002833  0.000891 -0.005199   \n",
       "user_id          -0.006953  1.000000     0.002139  0.005232 -0.000036   \n",
       "category_id       0.002833  0.002139     1.000000  0.556550 -0.003152   \n",
       "video_id          0.000891  0.005232     0.556550  1.000000 -0.005615   \n",
       "age              -0.005199 -0.000036    -0.003152 -0.005615  1.000000   \n",
       "followers        -0.001374 -0.002026     0.056432  0.098778  0.004623   \n",
       "views            -0.001815 -0.001843     0.079321 -0.029448  0.011042   \n",
       "engagement_score -0.003368 -0.002900    -0.094288 -0.030552 -0.232626   \n",
       "\n",
       "                  followers     views  engagement_score  \n",
       "row_id            -0.001374 -0.001815         -0.003368  \n",
       "user_id           -0.002026 -0.001843         -0.002900  \n",
       "category_id        0.056432  0.079321         -0.094288  \n",
       "video_id           0.098778 -0.029448         -0.030552  \n",
       "age                0.004623  0.011042         -0.232626  \n",
       "followers          1.000000  0.360808          0.000855  \n",
       "views              0.360808  1.000000         -0.084679  \n",
       "engagement_score   0.000855 -0.084679          1.000000  "
      ]
     },
     "execution_count": 59,
     "metadata": {},
     "output_type": "execute_result"
    },
    {
     "data": {
      "text/plain": [
       "<Figure size 576x576 with 0 Axes>"
      ]
     },
     "metadata": {},
     "output_type": "display_data"
    }
   ],
   "source": [
    "#looking at relationship between features and target variable\n",
    "#correlation is the best measure \n",
    "fig = plt.figure(figsize=(8,8))\n",
    "data.corr()"
   ]
  },
  {
   "cell_type": "markdown",
   "metadata": {},
   "source": [
    "followers have positive correlation for target variable"
   ]
  },
  {
   "cell_type": "code",
   "execution_count": 60,
   "metadata": {},
   "outputs": [],
   "source": [
    "#reading test data\n",
    "test_data = pd.read_csv('test_1zqHu22.csv')"
   ]
  },
  {
   "cell_type": "code",
   "execution_count": 61,
   "metadata": {},
   "outputs": [
    {
     "data": {
      "text/html": [
       "<div>\n",
       "<style scoped>\n",
       "    .dataframe tbody tr th:only-of-type {\n",
       "        vertical-align: middle;\n",
       "    }\n",
       "\n",
       "    .dataframe tbody tr th {\n",
       "        vertical-align: top;\n",
       "    }\n",
       "\n",
       "    .dataframe thead th {\n",
       "        text-align: right;\n",
       "    }\n",
       "</style>\n",
       "<table border=\"1\" class=\"dataframe\">\n",
       "  <thead>\n",
       "    <tr style=\"text-align: right;\">\n",
       "      <th></th>\n",
       "      <th>row_id</th>\n",
       "      <th>user_id</th>\n",
       "      <th>category_id</th>\n",
       "      <th>video_id</th>\n",
       "      <th>age</th>\n",
       "      <th>gender</th>\n",
       "      <th>profession</th>\n",
       "      <th>followers</th>\n",
       "      <th>views</th>\n",
       "    </tr>\n",
       "  </thead>\n",
       "  <tbody>\n",
       "    <tr>\n",
       "      <th>0</th>\n",
       "      <td>89198</td>\n",
       "      <td>7986</td>\n",
       "      <td>12</td>\n",
       "      <td>42</td>\n",
       "      <td>14</td>\n",
       "      <td>Male</td>\n",
       "      <td>Student</td>\n",
       "      <td>180</td>\n",
       "      <td>138</td>\n",
       "    </tr>\n",
       "    <tr>\n",
       "      <th>1</th>\n",
       "      <td>89199</td>\n",
       "      <td>11278</td>\n",
       "      <td>34</td>\n",
       "      <td>115</td>\n",
       "      <td>14</td>\n",
       "      <td>Male</td>\n",
       "      <td>Student</td>\n",
       "      <td>230</td>\n",
       "      <td>840</td>\n",
       "    </tr>\n",
       "    <tr>\n",
       "      <th>2</th>\n",
       "      <td>89200</td>\n",
       "      <td>17245</td>\n",
       "      <td>8</td>\n",
       "      <td>110</td>\n",
       "      <td>44</td>\n",
       "      <td>Female</td>\n",
       "      <td>Working Professional</td>\n",
       "      <td>280</td>\n",
       "      <td>628</td>\n",
       "    </tr>\n",
       "    <tr>\n",
       "      <th>3</th>\n",
       "      <td>89201</td>\n",
       "      <td>9851</td>\n",
       "      <td>16</td>\n",
       "      <td>137</td>\n",
       "      <td>18</td>\n",
       "      <td>Male</td>\n",
       "      <td>Student</td>\n",
       "      <td>270</td>\n",
       "      <td>462</td>\n",
       "    </tr>\n",
       "    <tr>\n",
       "      <th>4</th>\n",
       "      <td>89202</td>\n",
       "      <td>16008</td>\n",
       "      <td>34</td>\n",
       "      <td>96</td>\n",
       "      <td>47</td>\n",
       "      <td>Female</td>\n",
       "      <td>Other</td>\n",
       "      <td>230</td>\n",
       "      <td>840</td>\n",
       "    </tr>\n",
       "  </tbody>\n",
       "</table>\n",
       "</div>"
      ],
      "text/plain": [
       "   row_id  user_id  category_id  video_id  age  gender            profession  \\\n",
       "0   89198     7986           12        42   14    Male               Student   \n",
       "1   89199    11278           34       115   14    Male               Student   \n",
       "2   89200    17245            8       110   44  Female  Working Professional   \n",
       "3   89201     9851           16       137   18    Male               Student   \n",
       "4   89202    16008           34        96   47  Female                 Other   \n",
       "\n",
       "   followers  views  \n",
       "0        180    138  \n",
       "1        230    840  \n",
       "2        280    628  \n",
       "3        270    462  \n",
       "4        230    840  "
      ]
     },
     "execution_count": 61,
     "metadata": {},
     "output_type": "execute_result"
    }
   ],
   "source": [
    "test_data.head(5)"
   ]
  },
  {
   "cell_type": "code",
   "execution_count": 62,
   "metadata": {},
   "outputs": [],
   "source": [
    "#separating dependent and independent variables\n",
    "y = data['engagement_score']\n",
    "x = data.drop('engagement_score',axis=1)"
   ]
  },
  {
   "cell_type": "code",
   "execution_count": 63,
   "metadata": {},
   "outputs": [
    {
     "data": {
      "text/plain": [
       "(89197, 9)"
      ]
     },
     "execution_count": 63,
     "metadata": {},
     "output_type": "execute_result"
    }
   ],
   "source": [
    "x.shape"
   ]
  },
  {
   "cell_type": "markdown",
   "metadata": {},
   "source": [
    "## Data Preprocessing"
   ]
  },
  {
   "cell_type": "code",
   "execution_count": 107,
   "metadata": {},
   "outputs": [],
   "source": [
    "#followers column standardizing\n",
    "from sklearn.preprocessing import StandardScaler\n",
    "s = StandardScaler()\n",
    "x_train_followers = s.fit_transform(x['followers'].values.reshape(-1,1))\n",
    "x_test_followers = s.transform(test_data['followers'].values.reshape(-1,1))"
   ]
  },
  {
   "cell_type": "code",
   "execution_count": 108,
   "metadata": {},
   "outputs": [],
   "source": [
    "#views column standardizing\n",
    "v = StandardScaler()\n",
    "x_train_views = v.fit_transform(x['views'].values.reshape(-1,1))\n",
    "x_test_views = v.transform(test_data['views'].values.reshape(-1,1))\n"
   ]
  },
  {
   "cell_type": "code",
   "execution_count": 109,
   "metadata": {},
   "outputs": [],
   "source": [
    "#profession is a categorical variable so one hot encoding is required\n",
    "from sklearn.preprocessing import LabelEncoder\n",
    "o = LabelEncoder()\n",
    "x_train_profession = o.fit_transform(x['profession'].values)\n",
    "x_test_profession = o.transform(test_data['profession'].values)"
   ]
  },
  {
   "cell_type": "code",
   "execution_count": 110,
   "metadata": {},
   "outputs": [],
   "source": [
    "#gender one hot encoding\n",
    "g = LabelEncoder()\n",
    "x_train_gender= g.fit_transform(x['gender'].values)\n",
    "x_test_gender= g.transform(test_data['gender'].values)"
   ]
  },
  {
   "cell_type": "code",
   "execution_count": 111,
   "metadata": {},
   "outputs": [],
   "source": [
    "#label encoding age\n",
    "from sklearn.preprocessing import LabelEncoder\n",
    "l = LabelEncoder()\n",
    "x_train_age = l.fit_transform(x['age'].values)\n",
    "x_test_age = l.transform(test_data['age'].values)"
   ]
  },
  {
   "cell_type": "code",
   "execution_count": 135,
   "metadata": {},
   "outputs": [
    {
     "data": {
      "text/plain": [
       "2"
      ]
     },
     "execution_count": 135,
     "metadata": {},
     "output_type": "execute_result"
    }
   ],
   "source": [
    "d = x_train_views.flatten()\n",
    "x_train_followers.ndim"
   ]
  },
  {
   "cell_type": "code",
   "execution_count": 136,
   "metadata": {},
   "outputs": [],
   "source": [
    "x_tr = pd.DataFrame(\n",
    "{\n",
    "    'age':x_train_age,\n",
    "    'profession':x_train_profession,\n",
    "    'views':x_train_views.flatten(),\n",
    "    'gender':x_train_gender,\n",
    "    'followers':x_train_followers.flatten()\n",
    "})"
   ]
  },
  {
   "cell_type": "code",
   "execution_count": 139,
   "metadata": {},
   "outputs": [
    {
     "data": {
      "text/plain": [
       "(89197, 5)"
      ]
     },
     "execution_count": 139,
     "metadata": {},
     "output_type": "execute_result"
    }
   ],
   "source": [
    "x_tr.shape"
   ]
  },
  {
   "cell_type": "code",
   "execution_count": 140,
   "metadata": {},
   "outputs": [],
   "source": [
    "x_te = pd.DataFrame(\n",
    "{\n",
    "    'age':x_test_age,\n",
    "    'profession':x_test_profession,\n",
    "    'views':x_test_views.flatten(),\n",
    "    'gender':x_test_gender,\n",
    "    'followers':x_test_followers.flatten()\n",
    "})"
   ]
  },
  {
   "cell_type": "code",
   "execution_count": 141,
   "metadata": {},
   "outputs": [
    {
     "data": {
      "text/plain": [
       "(11121, 5)"
      ]
     },
     "execution_count": 141,
     "metadata": {},
     "output_type": "execute_result"
    }
   ],
   "source": [
    "x_te.shape"
   ]
  },
  {
   "cell_type": "markdown",
   "metadata": {},
   "source": [
    "## Building Machine Learning Models"
   ]
  },
  {
   "cell_type": "code",
   "execution_count": 146,
   "metadata": {},
   "outputs": [
    {
     "name": "stderr",
     "output_type": "stream",
     "text": [
      "C:\\Users\\Hp\\anaconda3\\lib\\site-packages\\sklearn\\model_selection\\_search.py:281: UserWarning: The total space of parameters 3 is smaller than n_iter=10. Running 3 iterations. For exhaustive searches, use GridSearchCV.\n",
      "  % (grid_size, self.n_iter, grid_size), UserWarning)\n"
     ]
    },
    {
     "data": {
      "text/html": [
       "<div>\n",
       "<style scoped>\n",
       "    .dataframe tbody tr th:only-of-type {\n",
       "        vertical-align: middle;\n",
       "    }\n",
       "\n",
       "    .dataframe tbody tr th {\n",
       "        vertical-align: top;\n",
       "    }\n",
       "\n",
       "    .dataframe thead th {\n",
       "        text-align: right;\n",
       "    }\n",
       "</style>\n",
       "<table border=\"1\" class=\"dataframe\">\n",
       "  <thead>\n",
       "    <tr style=\"text-align: right;\">\n",
       "      <th></th>\n",
       "      <th>mean_fit_time</th>\n",
       "      <th>std_fit_time</th>\n",
       "      <th>mean_score_time</th>\n",
       "      <th>std_score_time</th>\n",
       "      <th>param_alpha</th>\n",
       "      <th>params</th>\n",
       "      <th>split0_test_score</th>\n",
       "      <th>split1_test_score</th>\n",
       "      <th>split2_test_score</th>\n",
       "      <th>mean_test_score</th>\n",
       "      <th>std_test_score</th>\n",
       "      <th>rank_test_score</th>\n",
       "      <th>split0_train_score</th>\n",
       "      <th>split1_train_score</th>\n",
       "      <th>split2_train_score</th>\n",
       "      <th>mean_train_score</th>\n",
       "      <th>std_train_score</th>\n",
       "    </tr>\n",
       "  </thead>\n",
       "  <tbody>\n",
       "    <tr>\n",
       "      <th>0</th>\n",
       "      <td>0.146608</td>\n",
       "      <td>0.005114</td>\n",
       "      <td>0.003312</td>\n",
       "      <td>0.000451</td>\n",
       "      <td>0.001</td>\n",
       "      <td>{'alpha': 0.001}</td>\n",
       "      <td>0.236352</td>\n",
       "      <td>0.188259</td>\n",
       "      <td>0.175338</td>\n",
       "      <td>0.199983</td>\n",
       "      <td>0.026252</td>\n",
       "      <td>1</td>\n",
       "      <td>0.222398</td>\n",
       "      <td>0.191401</td>\n",
       "      <td>0.178821</td>\n",
       "      <td>0.197540</td>\n",
       "      <td>0.018312</td>\n",
       "    </tr>\n",
       "    <tr>\n",
       "      <th>1</th>\n",
       "      <td>0.121357</td>\n",
       "      <td>0.007094</td>\n",
       "      <td>0.002990</td>\n",
       "      <td>0.000004</td>\n",
       "      <td>0.0001</td>\n",
       "      <td>{'alpha': 0.0001}</td>\n",
       "      <td>-0.115981</td>\n",
       "      <td>0.205836</td>\n",
       "      <td>0.220993</td>\n",
       "      <td>0.103616</td>\n",
       "      <td>0.155402</td>\n",
       "      <td>3</td>\n",
       "      <td>-0.122195</td>\n",
       "      <td>0.213341</td>\n",
       "      <td>0.229529</td>\n",
       "      <td>0.106892</td>\n",
       "      <td>0.162123</td>\n",
       "    </tr>\n",
       "    <tr>\n",
       "      <th>2</th>\n",
       "      <td>0.126660</td>\n",
       "      <td>0.026701</td>\n",
       "      <td>0.002994</td>\n",
       "      <td>0.000002</td>\n",
       "      <td>0.01</td>\n",
       "      <td>{'alpha': 0.01}</td>\n",
       "      <td>0.170543</td>\n",
       "      <td>0.213354</td>\n",
       "      <td>0.161441</td>\n",
       "      <td>0.181780</td>\n",
       "      <td>0.022634</td>\n",
       "      <td>2</td>\n",
       "      <td>0.158888</td>\n",
       "      <td>0.217546</td>\n",
       "      <td>0.175156</td>\n",
       "      <td>0.183863</td>\n",
       "      <td>0.024726</td>\n",
       "    </tr>\n",
       "  </tbody>\n",
       "</table>\n",
       "</div>"
      ],
      "text/plain": [
       "   mean_fit_time  std_fit_time  mean_score_time  std_score_time param_alpha  \\\n",
       "0       0.146608      0.005114         0.003312        0.000451       0.001   \n",
       "1       0.121357      0.007094         0.002990        0.000004      0.0001   \n",
       "2       0.126660      0.026701         0.002994        0.000002        0.01   \n",
       "\n",
       "              params  split0_test_score  split1_test_score  split2_test_score  \\\n",
       "0   {'alpha': 0.001}           0.236352           0.188259           0.175338   \n",
       "1  {'alpha': 0.0001}          -0.115981           0.205836           0.220993   \n",
       "2    {'alpha': 0.01}           0.170543           0.213354           0.161441   \n",
       "\n",
       "   mean_test_score  std_test_score  rank_test_score  split0_train_score  \\\n",
       "0         0.199983        0.026252                1            0.222398   \n",
       "1         0.103616        0.155402                3           -0.122195   \n",
       "2         0.181780        0.022634                2            0.158888   \n",
       "\n",
       "   split1_train_score  split2_train_score  mean_train_score  std_train_score  \n",
       "0            0.191401            0.178821          0.197540         0.018312  \n",
       "1            0.213341            0.229529          0.106892         0.162123  \n",
       "2            0.217546            0.175156          0.183863         0.024726  "
      ]
     },
     "execution_count": 146,
     "metadata": {},
     "output_type": "execute_result"
    }
   ],
   "source": [
    "#applying linear regression\n",
    "from sklearn.linear_model import SGDRegressor\n",
    "from sklearn.model_selection import RandomizedSearchCV\n",
    "\n",
    "clf = SGDRegressor()\n",
    "parameters = {'alpha':[0.001,0.0001,0.01]}\n",
    "model = RandomizedSearchCV(clf,parameters,cv = 3,scoring = 'r2',return_train_score = True)\n",
    "model.fit(x_tr,y)\n",
    "\n",
    "results = pd.DataFrame.from_dict(model.cv_results_)\n",
    "\n",
    "results.head(5)"
   ]
  },
  {
   "cell_type": "markdown",
   "metadata": {},
   "source": [
    "Best alpha value is 0.001"
   ]
  },
  {
   "cell_type": "code",
   "execution_count": 149,
   "metadata": {},
   "outputs": [
    {
     "data": {
      "text/plain": [
       "SGDRegressor(alpha=0.001, average=False, early_stopping=False, epsilon=0.1,\n",
       "             eta0=0.01, fit_intercept=True, l1_ratio=0.15,\n",
       "             learning_rate='invscaling', loss='squared_loss', max_iter=1000,\n",
       "             n_iter_no_change=5, penalty='l2', power_t=0.25, random_state=None,\n",
       "             shuffle=True, tol=0.001, validation_fraction=0.1, verbose=0,\n",
       "             warm_start=False)"
      ]
     },
     "execution_count": 149,
     "metadata": {},
     "output_type": "execute_result"
    }
   ],
   "source": [
    "#building linear regression model with alpha = 0.001\n",
    "reg_model = SGDRegressor(alpha = 0.001)\n",
    "reg_model.fit(x_tr,y)"
   ]
  },
  {
   "cell_type": "code",
   "execution_count": 150,
   "metadata": {},
   "outputs": [
    {
     "name": "stdout",
     "output_type": "stream",
     "text": [
      "r2-score is 0.22476411305331034\n"
     ]
    }
   ],
   "source": [
    "print(\"r2-score is {}\".format(reg_model.score(x_tr,y)))"
   ]
  },
  {
   "cell_type": "code",
   "execution_count": 151,
   "metadata": {},
   "outputs": [],
   "source": [
    "predicted_value = model.predict(x_te)"
   ]
  },
  {
   "cell_type": "code",
   "execution_count": 154,
   "metadata": {},
   "outputs": [
    {
     "data": {
      "text/plain": [
       "array([4.02734067, 3.86290815, 2.12073179, ..., 3.71809364, 3.38179245,\n",
       "       3.20878537])"
      ]
     },
     "execution_count": 154,
     "metadata": {},
     "output_type": "execute_result"
    }
   ],
   "source": [
    "predicted_value"
   ]
  },
  {
   "cell_type": "code",
   "execution_count": 155,
   "metadata": {},
   "outputs": [],
   "source": [
    "submission  = pd.DataFrame({\n",
    "    'row_id':pd.Series(test_data['row_id']),\n",
    "    'engagement_score':pd.Series(predicted_value)\n",
    "})"
   ]
  },
  {
   "cell_type": "code",
   "execution_count": 157,
   "metadata": {},
   "outputs": [],
   "source": [
    "submission.to_csv('Submission.csv',index = False)"
   ]
  },
  {
   "cell_type": "code",
   "execution_count": null,
   "metadata": {},
   "outputs": [],
   "source": []
  }
 ],
 "metadata": {
  "kernelspec": {
   "display_name": "Python 3",
   "language": "python",
   "name": "python3"
  },
  "language_info": {
   "codemirror_mode": {
    "name": "ipython",
    "version": 3
   },
   "file_extension": ".py",
   "mimetype": "text/x-python",
   "name": "python",
   "nbconvert_exporter": "python",
   "pygments_lexer": "ipython3",
   "version": "3.7.6"
  }
 },
 "nbformat": 4,
 "nbformat_minor": 4
}
